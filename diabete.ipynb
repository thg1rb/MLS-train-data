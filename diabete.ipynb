{
 "cells": [
  {
   "cell_type": "markdown",
   "metadata": {},
   "source": [
    "### กลุ่ม Diabetes Prediction \n",
    "1. 6610402205 นายรักษิต รุ่งรัตนไชย หมู่ 1\n",
    "2. 6610402132 นายบวรรัตน์ ตั้งนรารัชชกิจ หมู่ 1\n",
    "3. 6610401985 นายไชยวัตน์ หนูวัฒนา หมู่ 1  "
   ]
  },
  {
   "cell_type": "markdown",
   "metadata": {},
   "source": [
    "### ลิงค์ไปยังข้อมูลที่จะใช้ในระบบต้นแบบ\n",
    "\n",
    "Link to data: https://www.kaggle.com/datasets/alexteboul/diabetes-health-indicators-dataset"
   ]
  },
  {
   "cell_type": "code",
   "execution_count": 5,
   "metadata": {},
   "outputs": [
    {
     "data": {
      "text/html": [
       "<div>\n",
       "<style scoped>\n",
       "    .dataframe tbody tr th:only-of-type {\n",
       "        vertical-align: middle;\n",
       "    }\n",
       "\n",
       "    .dataframe tbody tr th {\n",
       "        vertical-align: top;\n",
       "    }\n",
       "\n",
       "    .dataframe thead th {\n",
       "        text-align: right;\n",
       "    }\n",
       "</style>\n",
       "<table border=\"1\" class=\"dataframe\">\n",
       "  <thead>\n",
       "    <tr style=\"text-align: right;\">\n",
       "      <th></th>\n",
       "      <th>Diabetes_binary</th>\n",
       "      <th>HighBP</th>\n",
       "      <th>HighChol</th>\n",
       "      <th>CholCheck</th>\n",
       "      <th>BMI</th>\n",
       "      <th>Smoker</th>\n",
       "      <th>Stroke</th>\n",
       "      <th>HeartDiseaseorAttack</th>\n",
       "      <th>PhysActivity</th>\n",
       "      <th>Fruits</th>\n",
       "      <th>...</th>\n",
       "      <th>AnyHealthcare</th>\n",
       "      <th>NoDocbcCost</th>\n",
       "      <th>GenHlth</th>\n",
       "      <th>MentHlth</th>\n",
       "      <th>PhysHlth</th>\n",
       "      <th>DiffWalk</th>\n",
       "      <th>Sex</th>\n",
       "      <th>Age</th>\n",
       "      <th>Education</th>\n",
       "      <th>Income</th>\n",
       "    </tr>\n",
       "  </thead>\n",
       "  <tbody>\n",
       "    <tr>\n",
       "      <th>0</th>\n",
       "      <td>0.0</td>\n",
       "      <td>1.0</td>\n",
       "      <td>1.0</td>\n",
       "      <td>1.0</td>\n",
       "      <td>40.0</td>\n",
       "      <td>1.0</td>\n",
       "      <td>0.0</td>\n",
       "      <td>0.0</td>\n",
       "      <td>0.0</td>\n",
       "      <td>0.0</td>\n",
       "      <td>...</td>\n",
       "      <td>1.0</td>\n",
       "      <td>0.0</td>\n",
       "      <td>5.0</td>\n",
       "      <td>18.0</td>\n",
       "      <td>15.0</td>\n",
       "      <td>1.0</td>\n",
       "      <td>0.0</td>\n",
       "      <td>9.0</td>\n",
       "      <td>4.0</td>\n",
       "      <td>3.0</td>\n",
       "    </tr>\n",
       "    <tr>\n",
       "      <th>1</th>\n",
       "      <td>0.0</td>\n",
       "      <td>0.0</td>\n",
       "      <td>0.0</td>\n",
       "      <td>0.0</td>\n",
       "      <td>25.0</td>\n",
       "      <td>1.0</td>\n",
       "      <td>0.0</td>\n",
       "      <td>0.0</td>\n",
       "      <td>1.0</td>\n",
       "      <td>0.0</td>\n",
       "      <td>...</td>\n",
       "      <td>0.0</td>\n",
       "      <td>1.0</td>\n",
       "      <td>3.0</td>\n",
       "      <td>0.0</td>\n",
       "      <td>0.0</td>\n",
       "      <td>0.0</td>\n",
       "      <td>0.0</td>\n",
       "      <td>7.0</td>\n",
       "      <td>6.0</td>\n",
       "      <td>1.0</td>\n",
       "    </tr>\n",
       "    <tr>\n",
       "      <th>2</th>\n",
       "      <td>0.0</td>\n",
       "      <td>1.0</td>\n",
       "      <td>1.0</td>\n",
       "      <td>1.0</td>\n",
       "      <td>28.0</td>\n",
       "      <td>0.0</td>\n",
       "      <td>0.0</td>\n",
       "      <td>0.0</td>\n",
       "      <td>0.0</td>\n",
       "      <td>1.0</td>\n",
       "      <td>...</td>\n",
       "      <td>1.0</td>\n",
       "      <td>1.0</td>\n",
       "      <td>5.0</td>\n",
       "      <td>30.0</td>\n",
       "      <td>30.0</td>\n",
       "      <td>1.0</td>\n",
       "      <td>0.0</td>\n",
       "      <td>9.0</td>\n",
       "      <td>4.0</td>\n",
       "      <td>8.0</td>\n",
       "    </tr>\n",
       "    <tr>\n",
       "      <th>3</th>\n",
       "      <td>0.0</td>\n",
       "      <td>1.0</td>\n",
       "      <td>0.0</td>\n",
       "      <td>1.0</td>\n",
       "      <td>27.0</td>\n",
       "      <td>0.0</td>\n",
       "      <td>0.0</td>\n",
       "      <td>0.0</td>\n",
       "      <td>1.0</td>\n",
       "      <td>1.0</td>\n",
       "      <td>...</td>\n",
       "      <td>1.0</td>\n",
       "      <td>0.0</td>\n",
       "      <td>2.0</td>\n",
       "      <td>0.0</td>\n",
       "      <td>0.0</td>\n",
       "      <td>0.0</td>\n",
       "      <td>0.0</td>\n",
       "      <td>11.0</td>\n",
       "      <td>3.0</td>\n",
       "      <td>6.0</td>\n",
       "    </tr>\n",
       "    <tr>\n",
       "      <th>4</th>\n",
       "      <td>0.0</td>\n",
       "      <td>1.0</td>\n",
       "      <td>1.0</td>\n",
       "      <td>1.0</td>\n",
       "      <td>24.0</td>\n",
       "      <td>0.0</td>\n",
       "      <td>0.0</td>\n",
       "      <td>0.0</td>\n",
       "      <td>1.0</td>\n",
       "      <td>1.0</td>\n",
       "      <td>...</td>\n",
       "      <td>1.0</td>\n",
       "      <td>0.0</td>\n",
       "      <td>2.0</td>\n",
       "      <td>3.0</td>\n",
       "      <td>0.0</td>\n",
       "      <td>0.0</td>\n",
       "      <td>0.0</td>\n",
       "      <td>11.0</td>\n",
       "      <td>5.0</td>\n",
       "      <td>4.0</td>\n",
       "    </tr>\n",
       "  </tbody>\n",
       "</table>\n",
       "<p>5 rows × 22 columns</p>\n",
       "</div>"
      ],
      "text/plain": [
       "   Diabetes_binary  HighBP  HighChol  CholCheck   BMI  Smoker  Stroke  \\\n",
       "0              0.0     1.0       1.0        1.0  40.0     1.0     0.0   \n",
       "1              0.0     0.0       0.0        0.0  25.0     1.0     0.0   \n",
       "2              0.0     1.0       1.0        1.0  28.0     0.0     0.0   \n",
       "3              0.0     1.0       0.0        1.0  27.0     0.0     0.0   \n",
       "4              0.0     1.0       1.0        1.0  24.0     0.0     0.0   \n",
       "\n",
       "   HeartDiseaseorAttack  PhysActivity  Fruits  ...  AnyHealthcare  \\\n",
       "0                   0.0           0.0     0.0  ...            1.0   \n",
       "1                   0.0           1.0     0.0  ...            0.0   \n",
       "2                   0.0           0.0     1.0  ...            1.0   \n",
       "3                   0.0           1.0     1.0  ...            1.0   \n",
       "4                   0.0           1.0     1.0  ...            1.0   \n",
       "\n",
       "   NoDocbcCost  GenHlth  MentHlth  PhysHlth  DiffWalk  Sex   Age  Education  \\\n",
       "0          0.0      5.0      18.0      15.0       1.0  0.0   9.0        4.0   \n",
       "1          1.0      3.0       0.0       0.0       0.0  0.0   7.0        6.0   \n",
       "2          1.0      5.0      30.0      30.0       1.0  0.0   9.0        4.0   \n",
       "3          0.0      2.0       0.0       0.0       0.0  0.0  11.0        3.0   \n",
       "4          0.0      2.0       3.0       0.0       0.0  0.0  11.0        5.0   \n",
       "\n",
       "   Income  \n",
       "0     3.0  \n",
       "1     1.0  \n",
       "2     8.0  \n",
       "3     6.0  \n",
       "4     4.0  \n",
       "\n",
       "[5 rows x 22 columns]"
      ]
     },
     "execution_count": 5,
     "metadata": {},
     "output_type": "execute_result"
    }
   ],
   "source": [
    "import pandas as pd\n",
    "diabetes = pd.read_csv(\"diabetes_binary_health_indicators_BRFSS2015.csv\")\n",
    "diabetes.head()"
   ]
  },
  {
   "cell_type": "markdown",
   "metadata": {},
   "source": [
    "### ข้อมูลมีการ/น่าจะมีการสุ่มตัวอย่างมา (sampling) แบบใด เพราะเหตุใด มีปัญหาหรือไม่ อย่างไร แก้ไขได้อย่างไร\n",
    "น่าจะมีการสุ่มตัวอย่างมาแบบ Nonprobability Sampling(Quota sampling) เนื่องจากข้อมูลของผู้ที่เป็นและไม่ได้เป็นเบาหวานมีความห่างกันมากจำนวนไม่สมดุลกันและการเก็บข้อมูลเก็บจากการโทรศัพท์สำรวจเฉพาะกลุ่มคนที่มีพฤติกรรมเสี่ยงและมีปัญหาสุขภาพเรื้อรัง ซึ่งปัญหาที่พบก็คือข้อมูลไม่มีความสมดุลจึงต้องมีการแก้ไขในขั้นตอนถัดไป"
   ]
  },
  {
   "cell_type": "code",
   "execution_count": 6,
   "metadata": {},
   "outputs": [
    {
     "data": {
      "text/plain": [
       "Diabetes_binary\n",
       "0.0    218334\n",
       "1.0     35346\n",
       "Name: count, dtype: int64"
      ]
     },
     "execution_count": 6,
     "metadata": {},
     "output_type": "execute_result"
    }
   ],
   "source": [
    "diabetes[\"Diabetes_binary\"].value_counts()"
   ]
  },
  {
   "cell_type": "markdown",
   "metadata": {},
   "source": [
    "### ข้อมูลมีการ/น่าจะมีการกำหนดเฉลย (labeling) ด้วยวิธีใด เพราะเหตุใด มีปัญหาหรือไม่ อย่างไร แก้ไขได้อย่างไร\n",
    "ใช้วิธีกำหนดเฉลยแบบ Hand Labels เนื่องจากใช้วิธีการเก็บข้อมูลจากการโทรศัพท์สอบถามผู้คนในประเทศอเมริกาและทุกข้อมูลมี Labels ระบุคำตอบครบถ้วนจึงไม่มีปัญหาแต่อย่างใด"
   ]
  },
  {
   "cell_type": "code",
   "execution_count": 7,
   "metadata": {},
   "outputs": [
    {
     "name": "stdout",
     "output_type": "stream",
     "text": [
      "จำนวนข้อมูล:  253680 จำนวนผลเฉลย: 253680\n"
     ]
    }
   ],
   "source": [
    "print(\"จำนวนข้อมูล: \" , diabetes.shape[0] , \"จำนวนผลเฉลย:\", diabetes[\"Diabetes_binary\"].value_counts().sum())"
   ]
  },
  {
   "cell_type": "markdown",
   "metadata": {},
   "source": [
    "### ข้อมูลขาดความสมดุล (imbalance) หรือไม่ อย่างไร มากน้อยแค่ไหน มีปัญหาหรือไม่ อย่างไร แก้ไขได้อย่างไร\n",
    "ข้อมูลขาดความสมดุลเพราะ ข้อมูลของผู้ที่เป็นเบาหวานกับข้อมูลของผู้ที่ไม่ได้เป็นเบาหวานมีความห่างกันค่อนข้างมาก"
   ]
  },
  {
   "cell_type": "code",
   "execution_count": 8,
   "metadata": {},
   "outputs": [
    {
     "data": {
      "text/plain": [
       "Diabetes_binary\n",
       "0.0    218334\n",
       "1.0     35346\n",
       "Name: count, dtype: int64"
      ]
     },
     "execution_count": 8,
     "metadata": {},
     "output_type": "execute_result"
    }
   ],
   "source": [
    "diabetes[\"Diabetes_binary\"].value_counts() # 1 คือเป็นเบาหวาน 0 คือไม่เป็นเบาหวาน"
   ]
  },
  {
   "cell_type": "markdown",
   "metadata": {},
   "source": [
    "อาจทำให้เกิดปัญหาการลำเอียงในการทำนายได้เราจึงใช้วิธีการ Resampling ใหม่โดยไปใช้วิธี Probability-based Samplilng แบบ Stratified Random Sample ในขั้นตอนการแบ่ง test train เพื่อนำไปเทรนโมเดล (ได้ลองใช้การ undersampling แล้วแต่ผลการทำนายและการหา feature importance ไม่สมเหตุสมผลจึงเลือกที่จะไม่ใช้เพราะอาจทำให้ข้อมูลจำนวนมากหายไปและทำให้ผลการทำนายคลาดเคลื่อนไป)"
   ]
  },
  {
   "cell_type": "markdown",
   "metadata": {},
   "source": [
    "### จำเป็นหรือสามารถสร้างข้อมูลเพิ่ม (augmentation) ได้หรือไม่ อย่างไร\n",
    "ไม่จำเป็นต้องทำ augmentation เนื่องจากข้อมูลไม่ได้เป็นรูปภาพแต่เป็นในลักษณะของ True False หรือ 0 1 จึงไม่มีความจำเป็นต้องทำ augmentation"
   ]
  },
  {
   "cell_type": "markdown",
   "metadata": {},
   "source": [
    "### ประเด็นอื่น ๆ ที่เกี่ยวข้องกับข้อมูลของตัวเอง\n",
    "เนื่องจากข้อมูลมีความ imbalance จึงลองที่จะทำ undersampling เพื่อตัดข้อมูลให้เท่ากันคาดว่าจะทำให้มีความลำเอียง(bias) น้อยลงแต่หลังจากที่ทดลองทดสอบด้วยโมเดล LogisticRegression พบว่าประสิทธิภาพในการทำนายลดลงและ feature importance ไม่สมเหตุสมผลอาจทำให้การทำนายไม่แม่นยำจึงเปลี่ยนมาใช้วิธีการ sampling แบบ Probability-based Samplilng(Stratified Random Sample) ในขั้นตอนการแบ่ง train test แทน ซึ่งประสิทธิภาพเป็นที่น่าพอใจ"
   ]
  },
  {
   "cell_type": "markdown",
   "metadata": {},
   "source": [
    "### การมีส่วนร่วมของสมาชิกแต่ละคนในกลุ่ม\n",
    "- นายรักษิต รุ่งรัตนไชย ทำหน้าที่เขียนอธิบายในหัวข้อต่างๆที่สรุปได้จากข้อมูล\n",
    "- นายบวรรัตน์ ตั้งนรารัชชกิจ สืบเสาะที่มาของข้อมูลเพื่อนำมาวิเคราห์การทำ sampling\n",
    "- นายไชยวัตน์ หนูวัฒนา ทำหน้าที่ทดลองโมเดลเพื่อแก้ปัญหา imbalance "
   ]
  },
  {
   "cell_type": "markdown",
   "metadata": {},
   "source": [
    "### การเปิดเผยการใช้เครื่องมือปัญญาประดิษฐ์ (ใช้อะไร ใช้เพื่ออะไร ใช้อย่างไร, prompt อย่างไร)\n",
    "ไม่ได้มีการใช้ AI หรือเครื่องมือปัญญาประดิษฐ์ใดๆในงานนี้"
   ]
  }
 ],
 "metadata": {
  "kernelspec": {
   "display_name": "MLS_01418262",
   "language": "python",
   "name": "python3"
  },
  "language_info": {
   "codemirror_mode": {
    "name": "ipython",
    "version": 3
   },
   "file_extension": ".py",
   "mimetype": "text/x-python",
   "name": "python",
   "nbconvert_exporter": "python",
   "pygments_lexer": "ipython3",
   "version": "3.10.11"
  }
 },
 "nbformat": 4,
 "nbformat_minor": 2
}
